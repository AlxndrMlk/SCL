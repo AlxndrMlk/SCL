{
 "cells": [
  {
   "cell_type": "code",
   "execution_count": 24,
   "metadata": {},
   "outputs": [],
   "source": [
    "import glob\n",
    "import os\n",
    "from PIL import Image"
   ]
  },
  {
   "cell_type": "code",
   "execution_count": 22,
   "metadata": {},
   "outputs": [],
   "source": [
    "path = r'C:\\Users\\aleksander.molak\\Documents\\Personal\\Psych\\SOCIAL_COGN_LAB\\SCL\\Study\\data\\images'"
   ]
  },
  {
   "cell_type": "code",
   "execution_count": 29,
   "metadata": {},
   "outputs": [],
   "source": [
    "png_paths = glob.glob(os.path.join(path, r'*\\*.png'))"
   ]
  },
  {
   "cell_type": "code",
   "execution_count": 34,
   "metadata": {},
   "outputs": [],
   "source": [
    "for img_path in png_paths:\n",
    "    # Prepare folder and out file name\n",
    "    folder, filename = os.path.split(img_path)\n",
    "    filename_jpg = filename.split('.')[0] + '.jpg'\n",
    "    \n",
    "    image = Image.open(img_path)\n",
    "    \n",
    "    # Drop alpha channel - not always a good idea \n",
    "    # (you might want alpha pixels to take some particular color)\n",
    "    # but works in this case:\n",
    "    image = image.convert(\"RGB\")\n",
    "    \n",
    "    outpath_full = os.path.join(folder, filename_jpg)\n",
    "    image.save(outpath_full)\n",
    "    \n",
    "    # Close the image\n",
    "    image.close()"
   ]
  },
  {
   "cell_type": "code",
   "execution_count": 35,
   "metadata": {},
   "outputs": [],
   "source": []
  },
  {
   "cell_type": "code",
   "execution_count": null,
   "metadata": {},
   "outputs": [],
   "source": []
  }
 ],
 "metadata": {
  "kernelspec": {
   "display_name": "Python 3",
   "language": "python",
   "name": "python3"
  },
  "language_info": {
   "codemirror_mode": {
    "name": "ipython",
    "version": 3
   },
   "file_extension": ".py",
   "mimetype": "text/x-python",
   "name": "python",
   "nbconvert_exporter": "python",
   "pygments_lexer": "ipython3",
   "version": "3.6.5"
  }
 },
 "nbformat": 4,
 "nbformat_minor": 2
}
