{
 "cells": [
  {
   "cell_type": "code",
   "execution_count": 13,
   "metadata": {},
   "outputs": [],
   "source": [
    "from selenium import webdriver \n",
    "from selenium.webdriver.common.by import By \n",
    "from selenium.webdriver.support.ui import WebDriverWait \n",
    "from selenium.webdriver.support import expected_conditions as EC \n",
    "from selenium.common.exceptions import TimeoutException\n",
    "\n",
    "import glob\n",
    "\n",
    "import os"
   ]
  },
  {
   "cell_type": "code",
   "execution_count": 31,
   "metadata": {},
   "outputs": [],
   "source": [
    "pages = glob.glob('pages\\*.html')"
   ]
  },
  {
   "cell_type": "code",
   "execution_count": 32,
   "metadata": {},
   "outputs": [],
   "source": [
    "gecko_path = r'C:\\Users\\aleksander.molak\\Downloads\\geckodriver-v0.26.0-win64\\geckodriver.exe'"
   ]
  },
  {
   "cell_type": "code",
   "execution_count": 33,
   "metadata": {},
   "outputs": [],
   "source": [
    "firefox_profile = webdriver.FirefoxProfile()\n",
    "firefox_profile.set_preference(\"browser.privatebrowsing.autostart\", True)\n",
    "\n",
    "driver = webdriver.Firefox(firefox_profile = firefox_profile,\n",
    "                           executable_path = gecko_path)"
   ]
  },
  {
   "cell_type": "code",
   "execution_count": 34,
   "metadata": {},
   "outputs": [],
   "source": [
    "for page in pages:\n",
    "    \n",
    "    filename = os.path.split(page)[1].split('.')[0]\n",
    "    url = (r'file:///' + os.path.join(os.getcwd(), page)).replace('\\\\', '/')\n",
    "    \n",
    "    driver.set_window_size(1920, 1000)\n",
    "    \n",
    "    driver.get(url)\n",
    "    \n",
    "    \n",
    "    driver.save_screenshot(fr'screenshots\\{filename}.png')"
   ]
  },
  {
   "cell_type": "code",
   "execution_count": 29,
   "metadata": {},
   "outputs": [
    {
     "data": {
      "text/plain": [
       "'file:///C:/Users/aleksander.molak/Documents/Personal/Psych/SOCIAL_COGN_LAB/SCL/Study/pages/C1_C5_N6_N1_C4_N5.html'"
      ]
     },
     "execution_count": 29,
     "metadata": {},
     "output_type": "execute_result"
    }
   ],
   "source": [
    "url"
   ]
  },
  {
   "cell_type": "code",
   "execution_count": 30,
   "metadata": {},
   "outputs": [
    {
     "data": {
      "text/plain": [
       "'file:///C:/Users/aleksander.molak/Documents/Personal/Psych/SOCIAL_COGN_LAB/SCL/Study/pages/C3_C2_C4_N3_N4_N6.html'"
      ]
     },
     "execution_count": 30,
     "metadata": {},
     "output_type": "execute_result"
    }
   ],
   "source": [
    "'file:///C:/Users/aleksander.molak/Documents/Personal/Psych/SOCIAL_COGN_LAB/SCL/Study/pages/C3_C2_C4_N3_N4_N6.html'"
   ]
  },
  {
   "cell_type": "code",
   "execution_count": null,
   "metadata": {},
   "outputs": [],
   "source": [
    "driver.close()"
   ]
  }
 ],
 "metadata": {
  "kernelspec": {
   "display_name": "Python 3",
   "language": "python",
   "name": "python3"
  },
  "language_info": {
   "codemirror_mode": {
    "name": "ipython",
    "version": 3
   },
   "file_extension": ".py",
   "mimetype": "text/x-python",
   "name": "python",
   "nbconvert_exporter": "python",
   "pygments_lexer": "ipython3",
   "version": "3.6.5"
  }
 },
 "nbformat": 4,
 "nbformat_minor": 2
}
