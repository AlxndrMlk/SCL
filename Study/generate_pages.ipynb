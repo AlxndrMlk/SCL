{
 "cells": [
  {
   "cell_type": "code",
   "execution_count": 109,
   "metadata": {},
   "outputs": [],
   "source": [
    "import glob\n",
    "import os\n",
    "from PIL import Image\n",
    "from string import Template\n",
    "\n",
    "import numpy as np"
   ]
  },
  {
   "cell_type": "markdown",
   "metadata": {},
   "source": [
    "## Convert `.png` images to `.jpg`"
   ]
  },
  {
   "cell_type": "code",
   "execution_count": 22,
   "metadata": {},
   "outputs": [],
   "source": [
    "path = r'C:\\Users\\aleksander.molak\\Documents\\Personal\\Psych\\SOCIAL_COGN_LAB\\SCL\\Study\\data\\images'"
   ]
  },
  {
   "cell_type": "code",
   "execution_count": 29,
   "metadata": {},
   "outputs": [],
   "source": [
    "png_paths = glob.glob(os.path.join(path, r'*\\*.png'))"
   ]
  },
  {
   "cell_type": "code",
   "execution_count": 34,
   "metadata": {},
   "outputs": [],
   "source": [
    "for img_path in png_paths:\n",
    "    # Prepare folder and out file name\n",
    "    folder, filename = os.path.split(img_path)\n",
    "    filename_jpg = filename.split('.')[0] + '.jpg'\n",
    "    \n",
    "    image = Image.open(img_path)\n",
    "    \n",
    "    # Drop alpha channel - not always a good idea \n",
    "    # (you might want alpha pixels to take some particular color)\n",
    "    # but works in this case:\n",
    "    image = image.convert(\"RGB\")\n",
    "    \n",
    "    outpath_full = os.path.join(folder, filename_jpg)\n",
    "    image.save(outpath_full)\n",
    "    \n",
    "    # Close the image\n",
    "    image.close()"
   ]
  },
  {
   "cell_type": "code",
   "execution_count": 75,
   "metadata": {},
   "outputs": [],
   "source": [
    "def n_choose_k(n, k):\n",
    "    f = np.math.factorial\n",
    "    return f(n) / (f(n - k) * f(k))\n",
    "\n",
    "def n_combinations(n, k):\n",
    "    f = np.math.factorial\n",
    "    if n - k < 1:\n",
    "        return k\n",
    "    return f(n) / f(n - k)"
   ]
  },
  {
   "cell_type": "code",
   "execution_count": 93,
   "metadata": {},
   "outputs": [
    {
     "data": {
      "text/plain": [
       "288000.0"
      ]
     },
     "execution_count": 93,
     "metadata": {},
     "output_type": "execute_result"
    }
   ],
   "source": [
    "# How many combinations do we have?\n",
    "n_choose_k(6, 3)**2 * np.math.factorial(6)"
   ]
  },
  {
   "cell_type": "markdown",
   "metadata": {},
   "source": [
    "## Generate html"
   ]
  },
  {
   "cell_type": "code",
   "execution_count": 170,
   "metadata": {},
   "outputs": [],
   "source": [
    "html = \"\"\"\n",
    "<!doctype html>\n",
    "\n",
    "<html lang = 'en'>\n",
    "<head>\n",
    "  <meta charset = 'utf-8'>\n",
    "\n",
    "  <link href=\"https://fonts.googleapis.com/css2?family=Open+Sans+Condensed:wght@300&display=swap\" rel=\"stylesheet\"> \n",
    "  <link href=\"https://fonts.googleapis.com/css2?family=Spectral:wght@400&display=swap\" rel=\"stylesheet\">\n",
    "  <link href=\"https://fonts.googleapis.com/css2?family=Merriweather:wght@900&display=swap\" rel=\"stylesheet\"> \n",
    "\n",
    "  <title>The Article Base Portal</title>\n",
    "  <meta name = 'description' content = 'The Article Base Portal'>\n",
    "  <meta name = 'author' content = 'University of Warsaw'>\n",
    "\n",
    "  <link rel = 'stylesheet' href = '../styles/styles.css'>\n",
    "\n",
    "</head>\n",
    "\n",
    "<body>\n",
    "    <h1 id = 'header'>||The Article Base Portal</h1>\n",
    "\n",
    "    <div class = 'row'>\n",
    "      <div class = 'column side'>\n",
    "        <div class = 'ad-left' id = 'left-1'><img class = 'banner' src = \"$L1\"></div>\n",
    "        <div class = 'ad-left' id = 'left-2'><img class = 'banner' src = \"$L2\"></div>\n",
    "        <div class = 'ad-left' id = 'left-3'><img class = 'banner' src = \"$L3\"></div>\n",
    "        \n",
    "      </div>\n",
    "\n",
    "      <div class = 'column middle'>\n",
    "        <p id = 'title'></p>\n",
    "\n",
    "        <p id = 'content' src = 'https://www.w3.org/TR/PNG/iso_8859-1.txt'></p>\n",
    "\n",
    "      </div>\n",
    "\n",
    "      <div class = 'column side'>\n",
    "        <div class = 'ad-right' id = 'right-1'><img class = 'banner' src = \"$R1\"></div>\n",
    "        <div class = 'ad-right' id = 'right-2'><img class = 'banner' src = \"$R2\"></div>\n",
    "        <div class = 'ad-right' id = 'right-3'><img class = 'banner' src = \"$R3\"></div>\n",
    "      </div>\n",
    "    </div> \n",
    "\n",
    "\n",
    "\n",
    "  <script>\n",
    "    function getUrlVars() {\n",
    "        var vars = {};\n",
    "        var parts = window.location.href.replace(/[?&]+([^=&]+)=([^&]*)/gi, function(m, key, value) {\n",
    "            vars[key] = value;\n",
    "        });\n",
    "        return vars;\n",
    "    }\n",
    "\n",
    "    function getUrlParameter(parameter, defaultvalue){\n",
    "        var urlparameter = defaultvalue;\n",
    "        if(window.location.href.indexOf(parameter) > -1){\n",
    "            \n",
    "            urlparameter = getUrlVars()[parameter]\n",
    "            urlparameter = urlparameter.replace(/\\+/g, ' ')\n",
    "            console.log(urlparameter)\n",
    "            }\n",
    "        return urlparameter;\n",
    "    }\n",
    "\n",
    "    var param = getUrlParameter('text', 'NONE');\n",
    "    document.getElementById('title').innerHTML = param;\n",
    "\n",
    "    fetch('https://raw.githubusercontent.com/AlxndrMlk/SCL/master/Study/article_text.txt')\n",
    "        .then(response => response.text())\n",
    "        .then((data) => {\n",
    "        document.getElementById('content').innerHTML = data;\n",
    "    })\n",
    "\n",
    "\n",
    "  </script>\n",
    "\n",
    "</body>\n",
    "</html>\n",
    "\"\"\""
   ]
  },
  {
   "cell_type": "code",
   "execution_count": 171,
   "metadata": {},
   "outputs": [],
   "source": [
    "html = Template(html)"
   ]
  },
  {
   "cell_type": "code",
   "execution_count": 172,
   "metadata": {},
   "outputs": [],
   "source": [
    "cleansing_urls     = glob.glob(os.path.join(path, r'cleansing\\*'))\n",
    "non_cleansing_urls = glob.glob(os.path.join(path, r'non-cleansing\\*'))\n",
    "\n",
    "cleansing_urls     = ['..\\\\' + '\\\\'.join(path.split('\\\\')[9:]) for path in cleansing_urls]\n",
    "non_cleansing_urls = ['..\\\\' + '\\\\'.join(path.split('\\\\')[9:]) for path in non_cleansing_urls]"
   ]
  },
  {
   "cell_type": "code",
   "execution_count": 178,
   "metadata": {},
   "outputs": [],
   "source": [
    "for i in range(50):\n",
    "    \n",
    "    cleansing_ads     = np.random.choice(cleansing_urls, 3, replace = False)\n",
    "    non_cleansing_ads = np.random.choice(non_cleansing_urls, 3, replace = False)\n",
    "    \n",
    "    ads = np.random.permutation(np.concatenate([cleansing_ads, non_cleansing_ads]))\n",
    "    \n",
    "    ad_codes = []\n",
    "    \n",
    "    for ad_name in ads:\n",
    "        ad_name_clean = os.path.split(ad_name)[1].split('.')[0]\n",
    "        ad_code = ad_name_clean[0].upper() + ad_name_clean[-1]\n",
    "        ad_codes.append(ad_code)\n",
    "    \n",
    "    out_filename = os.path.join('pages', '_'.join(ad_codes) + '.html')\n",
    "    \n",
    "#     print(out_filename)\n",
    "    \n",
    "    out_html = html.substitute(L1 = ads[0],\n",
    "                               L2 = ads[1],\n",
    "                               L3 = ads[2],\n",
    "                               R1 = ads[3],\n",
    "                               R2 = ads[4],\n",
    "                               R3 = ads[5])\n",
    "    \n",
    "    with open(out_filename, 'w', encoding = 'utf-8') as f:\n",
    "        f.write(out_html)"
   ]
  },
  {
   "cell_type": "code",
   "execution_count": null,
   "metadata": {},
   "outputs": [],
   "source": []
  }
 ],
 "metadata": {
  "kernelspec": {
   "display_name": "Python 3",
   "language": "python",
   "name": "python3"
  },
  "language_info": {
   "codemirror_mode": {
    "name": "ipython",
    "version": 3
   },
   "file_extension": ".py",
   "mimetype": "text/x-python",
   "name": "python",
   "nbconvert_exporter": "python",
   "pygments_lexer": "ipython3",
   "version": "3.6.5"
  }
 },
 "nbformat": 4,
 "nbformat_minor": 2
}
