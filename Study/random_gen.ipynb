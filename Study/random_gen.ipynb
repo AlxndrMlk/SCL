{
 "cells": [
  {
   "cell_type": "code",
   "execution_count": 1,
   "metadata": {},
   "outputs": [],
   "source": [
    "import random"
   ]
  },
  {
   "cell_type": "code",
   "execution_count": 73,
   "metadata": {},
   "outputs": [],
   "source": [
    "def add_query(params, url):\n",
    "    \n",
    "    parametrized_url = url\n",
    "    \n",
    "    len_ = len(params)\n",
    "    \n",
    "    for i, param in enumerate(params):\n",
    "        addon = ''\n",
    "        if i + 1 < len_:\n",
    "            addon = '+'\n",
    "        parametrized_url += param + addon\n",
    "    \n",
    "    return parametrized_url"
   ]
  },
  {
   "cell_type": "code",
   "execution_count": 74,
   "metadata": {},
   "outputs": [],
   "source": [
    "clean = random.sample(['cx' + str(x) for x in range(25)], 3)\n",
    "neutr = random.sample(['nx' + str(x) for x in range(25)], 3)\n",
    "all_ads = clean + neutr\n",
    "random.shuffle(all_ads)"
   ]
  },
  {
   "cell_type": "code",
   "execution_count": 75,
   "metadata": {},
   "outputs": [
    {
     "data": {
      "text/plain": [
       "'https:\\\\oursite.net\\\\index.html\\\\?ord=nx18+cx11+nx24+nx21+cx18+cx9'"
      ]
     },
     "execution_count": 75,
     "metadata": {},
     "output_type": "execute_result"
    }
   ],
   "source": [
    "url = 'https:\\\\oursite.net\\index.html\\?ord='\n",
    "\n",
    "add_query(all_ads, url)\n",
    "    "
   ]
  },
  {
   "cell_type": "code",
   "execution_count": 77,
   "metadata": {},
   "outputs": [
    {
     "name": "stdout",
     "output_type": "stream",
     "text": [
      "HERE_GOES_OUR_URLcx8+cx5+nx5+nx16+cx7+nx14\n"
     ]
    }
   ],
   "source": [
    "import random\n",
    "import webbrowser\n",
    "\n",
    "def build_query(params, url):\n",
    "    \n",
    "    parametrized_url = url\n",
    "    \n",
    "    len_ = len(params)\n",
    "    \n",
    "    for i, param in enumerate(params):\n",
    "        addon = ''\n",
    "        if i + 1 < len_:\n",
    "            addon = '+'\n",
    "        parametrized_url += param + addon\n",
    "    \n",
    "    return parametrized_url\n",
    "    \n",
    "clean = random.sample(['cx' + str(x) for x in range(25)], 3)\n",
    "neutr = random.sample(['nx' + str(x) for x in range(25)], 3)\n",
    "all_ads = clean + neutr\n",
    "random.shuffle(all_ads)\n",
    "\n",
    "url = 'HERE_GOES_OUR_URL'\n",
    "\n",
    "final_url = build_query(all_ads, url)\n",
    "\n"
   ]
  }
 ],
 "metadata": {
  "kernelspec": {
   "display_name": "Python 3",
   "language": "python",
   "name": "python3"
  },
  "language_info": {
   "codemirror_mode": {
    "name": "ipython",
    "version": 3
   },
   "file_extension": ".py",
   "mimetype": "text/x-python",
   "name": "python",
   "nbconvert_exporter": "python",
   "pygments_lexer": "ipython3",
   "version": "3.6.5"
  }
 },
 "nbformat": 4,
 "nbformat_minor": 2
}
