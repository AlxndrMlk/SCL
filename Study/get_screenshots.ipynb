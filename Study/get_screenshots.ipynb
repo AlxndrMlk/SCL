{
 "cells": [
  {
   "cell_type": "code",
   "execution_count": 37,
   "metadata": {},
   "outputs": [],
   "source": [
    "from selenium import webdriver \n",
    "from selenium.webdriver.common.by import By \n",
    "from selenium.webdriver.support.ui import WebDriverWait \n",
    "from selenium.webdriver.support import expected_conditions as EC \n",
    "from selenium.common.exceptions import TimeoutException\n",
    "\n",
    "import glob\n",
    "import time\n",
    "import os"
   ]
  },
  {
   "cell_type": "code",
   "execution_count": 49,
   "metadata": {},
   "outputs": [],
   "source": [
    "pages = glob.glob('pages\\*.html')"
   ]
  },
  {
   "cell_type": "code",
   "execution_count": 50,
   "metadata": {},
   "outputs": [],
   "source": [
    "gecko_path = r'C:\\Users\\aleksander.molak\\Downloads\\geckodriver-v0.26.0-win64\\geckodriver.exe'"
   ]
  },
  {
   "cell_type": "code",
   "execution_count": 51,
   "metadata": {},
   "outputs": [],
   "source": [
    "firefox_profile = webdriver.FirefoxProfile()\n",
    "firefox_profile.set_preference(\"browser.privatebrowsing.autostart\", True)\n",
    "\n",
    "driver = webdriver.Firefox(firefox_profile = firefox_profile,\n",
    "                           executable_path = gecko_path)"
   ]
  },
  {
   "cell_type": "code",
   "execution_count": 52,
   "metadata": {},
   "outputs": [],
   "source": [
    "for page in pages:\n",
    "    \n",
    "    filename = os.path.split(page)[1].split('.')[0]\n",
    "    url = (r'file:///' + os.path.join(os.getcwd(), page)).replace('\\\\', '/') + '?text=Kryzys+w+inwestycjach+infrastrukturalnych?'\n",
    "    \n",
    "    driver.set_window_size(1920, 2000 * .8)\n",
    "    \n",
    "    driver.get(url)\n",
    "    time.sleep(1)\n",
    "    \n",
    "    driver.save_screenshot(fr'screenshots\\{filename}.png')"
   ]
  },
  {
   "cell_type": "code",
   "execution_count": 53,
   "metadata": {},
   "outputs": [],
   "source": [
    "driver.close()"
   ]
  },
  {
   "cell_type": "code",
   "execution_count": null,
   "metadata": {},
   "outputs": [],
   "source": []
  }
 ],
 "metadata": {
  "kernelspec": {
   "display_name": "Python 3",
   "language": "python",
   "name": "python3"
  },
  "language_info": {
   "codemirror_mode": {
    "name": "ipython",
    "version": 3
   },
   "file_extension": ".py",
   "mimetype": "text/x-python",
   "name": "python",
   "nbconvert_exporter": "python",
   "pygments_lexer": "ipython3",
   "version": "3.6.5"
  }
 },
 "nbformat": 4,
 "nbformat_minor": 2
}
